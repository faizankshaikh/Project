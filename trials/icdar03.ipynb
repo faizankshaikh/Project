{
 "cells": [
  {
   "cell_type": "code",
   "execution_count": 1,
   "metadata": {
    "collapsed": false
   },
   "outputs": [
    {
     "name": "stderr",
     "output_type": "stream",
     "text": [
      "Using gpu device 0: GeForce GTX TITAN X (CNMeM is disabled)\n"
     ]
    }
   ],
   "source": [
    "%matplotlib inline\n",
    "import os\n",
    "import sys\n",
    "import pylab\n",
    "import random\n",
    "from random import randint, uniform\n",
    "from skimage.util import crop\n",
    "from skimage import transform\n",
    "import numpy as np\n",
    "import pandas as pd\n",
    "import cPickle as pkl\n",
    "from lasagne import layers\n",
    "from bs4 import BeautifulSoup as bs\n",
    "from lasagne import updates\n",
    "import lasagne as nn\n",
    "from theano.tensor.nnet import softmax\n",
    "from scipy.misc import imread, imresize\n",
    "from nolearn.lasagne import NeuralNet, BatchIterator\n",
    "from sklearn.cross_validation import train_test_split\n",
    "from sklearn.metrics import classification_report, accuracy_score\n",
    "\n",
    "repo_location = '/workspace/.project/project/'\n",
    "data_root = os.path.join(os.path.expanduser('~') + repo_location + 'datasets/')\n",
    "script_root = os.path.join(os.path.expanduser('~') + repo_location + 'scripts/')\n",
    "model_root = os.path.join(os.path.expanduser('~') + repo_location + 'models/')"
   ]
  },
  {
   "cell_type": "code",
   "execution_count": 2,
   "metadata": {
    "collapsed": false
   },
   "outputs": [
    {
     "name": "stdout",
     "output_type": "stream",
     "text": [
      "Loaded icdar03\n"
     ]
    }
   ],
   "source": [
    "# Load dataset\n",
    "train_soup = bs(open(data_root + 'icdar03/train/char/char.xml').read(), 'lxml-xml')\n",
    "test_soup = bs(open(data_root + 'icdar03/test/char/char.xml').read(), 'lxml-xml')\n",
    "\n",
    "X_train = []\n",
    "y_train = []\n",
    "X_test = []\n",
    "y_test = []\n",
    "\n",
    "for image in train_soup('image'):\n",
    "    try:\n",
    "        img = imread(data_root + 'icdar03/train/char/' + image['file'])\n",
    "        X_train.append(img)\n",
    "        y_train.append(image['tag'])\n",
    "    except:\n",
    "        pass\n",
    "    \n",
    "for image in test_soup('image'):\n",
    "    try:\n",
    "        img = imread(data_root + 'icdar03/test/char/' + image['file'])\n",
    "        X_test.append(img)\n",
    "        y_test.append(image['tag'])\n",
    "    except:\n",
    "        pass\n",
    "\n",
    "    \n",
    "data_train = pd.DataFrame({'image' : X_train, 'label' : y_train})\n",
    "data_test = pd.DataFrame({'image' : X_test, 'label' : y_test})\n",
    "\n",
    "print 'Loaded icdar03'"
   ]
  },
  {
   "cell_type": "code",
   "execution_count": 3,
   "metadata": {
    "collapsed": false
   },
   "outputs": [
    {
     "name": "stdout",
     "output_type": "stream",
     "text": [
      "icdar03 reshaped and grayscaled\n"
     ]
    }
   ],
   "source": [
    "# Reshape images to 32x32 and convert to grayscale\n",
    "data_train_x = np.zeros((data_train['image'].count(), 1, 32, 32))\n",
    "data_train_y = data_train['label'].values\n",
    "data_test_x = np.zeros((data_test['image'].count(), 1, 32, 32))\n",
    "data_test_y = data_test['label'].values\n",
    "\n",
    "for idx, img in enumerate(data_train['image']):\n",
    "    img = imresize(img, (32, 32))\n",
    "    if len(img.shape) == 3:\n",
    "        data_train_x[idx, ...] = img.dot([0.299, 0.587, 0.144])\n",
    "    else:\n",
    "        data_train_x[idx, ...] = img\n",
    "        \n",
    "for idx, img in enumerate(data_test['image']):\n",
    "    img = imresize(img, (32, 32))\n",
    "    if len(img.shape) == 3:\n",
    "        data_test_x[idx, ...] = img.dot([0.299, 0.587, 0.144])\n",
    "    else:\n",
    "        data_test_x[idx, ...] = img\n",
    "        \n",
    "data_train_x = data_train_x.astype('float32')\n",
    "data_test_x = data_test_x.astype('float32')\n",
    "print 'icdar03 reshaped and grayscaled'"
   ]
  },
  {
   "cell_type": "code",
   "execution_count": 4,
   "metadata": {
    "collapsed": true
   },
   "outputs": [],
   "source": [
    "# Normalize by MuSigma\n",
    "data_train_x /= data_train_x.std(axis = None)\n",
    "data_train_x -= data_train_x.mean()\n",
    "\n",
    "data_test_x /= data_test_x.std(axis = None)\n",
    "data_test_x -= data_test_x.mean()"
   ]
  },
  {
   "cell_type": "code",
   "execution_count": 5,
   "metadata": {
    "collapsed": false
   },
   "outputs": [
    {
     "name": "stdout",
     "output_type": "stream",
     "text": [
      "(6185, 1, 32, 32) (6185,) (5430, 1, 32, 32) (5430,)\n"
     ]
    }
   ],
   "source": [
    "print data_train_x.shape, data_train_y.shape, data_test_x.shape, data_test_y.shape"
   ]
  },
  {
   "cell_type": "code",
   "execution_count": 6,
   "metadata": {
    "collapsed": true
   },
   "outputs": [],
   "source": [
    "class TransIterator(BatchIterator):\n",
    "    def fast_warp(self, img, tf, output_shape, mode='nearest'):\n",
    "        return transform._warps_cy._warp_fast(img, tf.params, output_shape=output_shape, mode=mode)\n",
    "    \n",
    "    def transform(self, Xb, yb):\n",
    "        Xb, yb = super(TransIterator, self).transform(Xb, yb)\n",
    "        \n",
    "        Xb_aug = np.empty(shape = (Xb.shape[0], 1, 32, 32), dtype = 'float32')\n",
    "        yb_aug = yb\n",
    "\n",
    "        # random rotations betweein -5 and 5 degrees\n",
    "        dorotate = randint(-5,5)\n",
    "\n",
    "        # random translations\n",
    "        trans_1 = randint(-3,3)\n",
    "        trans_2 = randint(-3,3)\n",
    "\n",
    "        # random zooms\n",
    "        zoom = uniform(0.8, 1.2)\n",
    "\n",
    "        # shearing\n",
    "        shear_deg = uniform(-10, 10)\n",
    "\n",
    "        # set the transform parameters for skimage.transform.warp\n",
    "        # have to shift to center and then shift back after transformation otherwise\n",
    "        # rotations will make image go out of frame\n",
    "        center_shift   = np.array((32, 32)) / 2. - 0.5\n",
    "        tform_center   = transform.SimilarityTransform(translation=-center_shift)\n",
    "        tform_uncenter = transform.SimilarityTransform(translation=center_shift)\n",
    "\n",
    "        tform_aug = transform.AffineTransform(rotation = np.deg2rad(dorotate),\n",
    "                                              scale =(1/zoom, 1/zoom),\n",
    "                                              shear = np.deg2rad(shear_deg),\n",
    "                                              translation = (trans_1, trans_2))\n",
    "\n",
    "        tform = tform_center + tform_aug + tform_uncenter\n",
    "        \n",
    "        for j in range(Xb.shape[0]):\n",
    "            Xb_aug[j][0] = self.fast_warp(Xb[j][0], tform,\n",
    "                                          output_shape = (32, 32))\n",
    "\n",
    "        return Xb_aug, yb_aug"
   ]
  },
  {
   "cell_type": "code",
   "execution_count": 19,
   "metadata": {
    "collapsed": true
   },
   "outputs": [],
   "source": [
    "# setting nn \n",
    "net = NeuralNet(\n",
    "    layers = [\n",
    "        ('input', layers.InputLayer),\n",
    "        ('conv1', layers.Conv2DLayer),\n",
    "        ('conv2', layers.Conv2DLayer),\n",
    "        ('pool3', layers.MaxPool2DLayer),\n",
    "        ('dropout4', layers.DropoutLayer),\n",
    "        ('conv5', layers.Conv2DLayer),\n",
    "        ('conv6', layers.Conv2DLayer),\n",
    "        ('pool7', layers.MaxPool2DLayer),\n",
    "        ('dropout8', layers.DropoutLayer),\n",
    "        ('conv9', layers.Conv2DLayer),\n",
    "        ('conv10', layers.Conv2DLayer),\n",
    "        ('dropout12', layers.DropoutLayer),\n",
    "        ('hidden13', layers.DenseLayer),\n",
    "        ('dropout14', layers.DropoutLayer),\n",
    "        ('hidden15', layers.DenseLayer),\n",
    "        ('dropout16', layers.DropoutLayer),\n",
    "        ('output', layers.DenseLayer),\n",
    "    ],\n",
    "\n",
    "    input_shape = (None, 1, 32, 32),\n",
    "    conv1_num_filters = 128, conv1_filter_size = (3, 3),\n",
    "    conv2_num_filters = 128, conv2_filter_size = (3, 3),\n",
    "    pool3_pool_size = (2, 2),\n",
    "    dropout4_p = 0.2,\n",
    "    conv5_num_filters = 256, conv5_filter_size = (3, 3),\n",
    "    conv6_num_filters = 256, conv6_filter_size = (3, 3),\n",
    "    pool7_pool_size = (2, 2),\n",
    "    dropout8_p = 0.2,\n",
    "    conv9_num_filters = 512, conv9_filter_size = (3, 3),\n",
    "    conv10_num_filters = 512, conv10_filter_size = (3, 3),\n",
    "    dropout12_p = 0.2,\n",
    "    hidden13_num_units = 1024,\n",
    "    dropout14_p = 0.5,\n",
    "    hidden15_num_units = 1024,\n",
    "    dropout16_p = 0.5,\n",
    "    output_num_units = 75, output_nonlinearity = softmax,\n",
    "\n",
    "    batch_iterator_train = TransIterator(batch_size = 2500),\n",
    "\n",
    "    update = updates.adam,\n",
    "\n",
    "    use_label_encoder = True,\n",
    "    regression = False,\n",
    "    max_epochs = 300,\n",
    "    verbose = 1,\n",
    ")"
   ]
  },
  {
   "cell_type": "code",
   "execution_count": 25,
   "metadata": {
    "collapsed": false
   },
   "outputs": [
    {
     "name": "stdout",
     "output_type": "stream",
     "text": [
      "Loaded parameters to layer 'conv1' (shape 128x1x3x3).\n",
      "Loaded parameters to layer 'conv1' (shape 128).\n",
      "Loaded parameters to layer 'conv2' (shape 128x128x3x3).\n",
      "Loaded parameters to layer 'conv2' (shape 128).\n",
      "Loaded parameters to layer 'conv5' (shape 256x128x3x3).\n",
      "Loaded parameters to layer 'conv5' (shape 256).\n",
      "Loaded parameters to layer 'conv6' (shape 256x256x3x3).\n",
      "Loaded parameters to layer 'conv6' (shape 256).\n",
      "Loaded parameters to layer 'conv9' (shape 512x256x3x3).\n",
      "Loaded parameters to layer 'conv9' (shape 512).\n",
      "Loaded parameters to layer 'conv10' (shape 512x512x3x3).\n",
      "Loaded parameters to layer 'conv10' (shape 512).\n",
      "Loaded parameters to layer 'hidden13' (shape 512x1024).\n",
      "Loaded parameters to layer 'hidden13' (shape 1024).\n",
      "Loaded parameters to layer 'hidden15' (shape 1024x1024).\n",
      "Loaded parameters to layer 'hidden15' (shape 1024).\n",
      "Loaded parameters to layer 'output' (shape 1024x75).\n",
      "Loaded parameters to layer 'output' (shape 75).\n",
      "    301       0.29383       1.01748      0.28878      0.78036  12.03s\n",
      "    302       0.33070       1.03180      0.32051      0.79245  12.10s\n",
      "    303       0.32959       1.11953      0.29440      0.76518  12.05s\n",
      "    304       0.30121       1.12298      0.26822      0.77065  12.41s\n",
      "    305       0.42853       1.06318      0.40306      0.78713  12.70s\n",
      "    306       0.35393       1.03409      0.34226      0.78683  12.43s\n",
      "    307       0.29667       1.03000      0.28803      0.77824  12.47s\n",
      "    308       0.29645       1.05353      0.28139      0.77973  12.42s\n",
      "    309       \u001b[36m0.24583\u001b[0m       1.09679      0.22413      0.78066  12.44s\n",
      "    310       0.37226       1.07724      0.34557      0.77880  12.41s\n",
      "    311       0.39288       1.12396      0.34955      0.77831  12.41s\n",
      "    312       \u001b[36m0.24128\u001b[0m       1.07768      0.22389      0.79792  12.46s\n",
      "    313       0.43026       1.02704      0.41893      0.79643  12.41s\n",
      "    314       \u001b[36m0.16585\u001b[0m       1.12956      0.14683      0.76808  12.55s\n",
      "    315       0.30090       1.03916      0.28956      0.79430  12.39s\n",
      "    316       0.32557       1.02792      0.31673      0.79792  12.51s\n",
      "    317       0.49460       1.07748      0.45903      0.78940  12.47s\n",
      "    318       0.32168       1.14546      0.28084      0.77463  12.47s\n",
      "    319       0.39674       1.05378      0.37649      0.79267  12.65s\n",
      "    320       0.22243       1.10611      0.20109      0.78385  12.51s\n",
      "    321       0.30490       1.13752      0.26804      0.78776  12.47s\n",
      "    322       0.36584       1.10798      0.33019      0.77958  12.41s\n",
      "    323       0.37898       1.09732      0.34537      0.77567  12.40s\n",
      "    324       0.37631       1.02413      0.36744      0.78769  12.38s\n",
      "    325       0.24993       1.02498      0.24384      0.78691  12.39s\n",
      "    326       0.24100       1.05732      0.22794      0.77902  12.44s\n",
      "    327       0.18798       1.11131      0.16915      0.78058  12.44s\n",
      "    328       0.34359       1.11739      0.30749      0.78713  12.42s\n",
      "    329       0.22134       1.13689      0.19469      0.78329  12.40s\n",
      "    330       0.20858       1.13149      0.18434      0.78869  12.39s\n",
      "    331       0.34669       1.12178      0.30905      0.79174  12.46s\n",
      "    332       0.21703       1.09812      0.19764      0.78776  12.50s\n",
      "    333       0.49239       1.06855      0.46080      0.78847  12.43s\n",
      "    334       0.17396       1.04948      0.16576      0.79870  12.40s\n",
      "    335       0.26819       1.06769      0.25118      0.80026  12.42s\n",
      "    336       0.26020       1.11680      0.23298      0.78676  12.82s\n",
      "    337       0.26662       1.19701      0.22274      0.76325  12.58s\n",
      "    338       0.21890       1.15090      0.19020      0.79089  12.66s\n",
      "    339       0.35362       1.08046      0.32729      0.79970  12.82s\n",
      "    340       0.36902       1.03838      0.35538      0.79955  12.42s\n",
      "    341       0.31651       1.02487      0.30883      0.79855  12.49s\n"
     ]
    }
   ],
   "source": [
    "# train nn\n",
    "net.load_params_from(os.path.join(model_root, 'recog_for_icdar.pkl')); # or load a pretrained model!\n",
    "net.fit(data_train_x, data_train_y);"
   ]
  },
  {
   "cell_type": "code",
   "execution_count": 26,
   "metadata": {
    "collapsed": false
   },
   "outputs": [
    {
     "name": "stdout",
     "output_type": "stream",
     "text": [
      "0.800368324125\n"
     ]
    }
   ],
   "source": [
    "pred = net.predict(data_test_x)\n",
    "print accuracy_score(data_test_y, pred)"
   ]
  },
  {
   "cell_type": "code",
   "execution_count": 27,
   "metadata": {
    "collapsed": false
   },
   "outputs": [
    {
     "name": "stdout",
     "output_type": "stream",
     "text": [
      "             precision    recall  f1-score   support\n",
      "\n",
      "          !       0.70      0.88      0.78         8\n",
      "          \"       0.00      0.00      0.00         1\n",
      "          &       1.00      0.14      0.25         7\n",
      "          '       0.29      0.50      0.36         8\n",
      "          (       0.00      0.00      0.00         1\n",
      "          )       0.00      0.00      0.00         1\n",
      "          ,       0.00      0.00      0.00         6\n",
      "          -       0.67      0.50      0.57         4\n",
      "          .       0.67      0.36      0.47        11\n",
      "          0       1.00      0.02      0.04        46\n",
      "          1       0.80      0.61      0.69        46\n",
      "          2       0.90      0.90      0.90        49\n",
      "          3       0.74      0.82      0.78        17\n",
      "          4       0.94      0.67      0.78        24\n",
      "          5       0.82      0.48      0.61        29\n",
      "          6       0.90      0.60      0.72        15\n",
      "          7       0.40      0.20      0.27        10\n",
      "          8       0.33      0.33      0.33         6\n",
      "          9       1.00      0.13      0.24        15\n",
      "          ?       0.00      0.00      0.00         1\n",
      "          A       0.97      0.87      0.92       223\n",
      "          B       0.95      0.79      0.86        47\n",
      "          C       0.79      0.81      0.80       153\n",
      "          D       0.83      0.78      0.81        74\n",
      "          E       0.89      0.91      0.90       322\n",
      "          F       0.91      0.88      0.89        76\n",
      "          G       0.87      0.92      0.89        63\n",
      "          H       0.93      0.92      0.92        97\n",
      "          I       0.53      0.41      0.46       163\n",
      "          J       0.50      0.31      0.38        13\n",
      "          K       0.94      0.70      0.80        46\n",
      "          L       0.90      0.79      0.85       131\n",
      "          M       0.85      0.88      0.86        89\n",
      "          N       0.94      0.88      0.91       153\n",
      "          O       0.60      0.79      0.68       187\n",
      "          P       0.84      0.88      0.86        91\n",
      "          Q       0.00      0.00      0.00         4\n",
      "          R       0.92      0.88      0.90       205\n",
      "          S       0.87      0.83      0.85       229\n",
      "          T       0.80      0.89      0.85       205\n",
      "          U       0.90      0.67      0.77        92\n",
      "          V       0.64      0.81      0.71        26\n",
      "          W       0.79      0.69      0.74        39\n",
      "          X       0.94      0.79      0.86        19\n",
      "          Y       0.92      0.86      0.89        42\n",
      "          Z       0.40      0.29      0.33         7\n",
      "          a       0.85      0.85      0.85       171\n",
      "          b       0.74      0.83      0.78        24\n",
      "          c       0.72      0.73      0.73       100\n",
      "          d       0.76      0.87      0.81        54\n",
      "          e       0.90      0.90      0.90       331\n",
      "          f       0.77      0.79      0.78        47\n",
      "          g       0.54      0.79      0.64        38\n",
      "          h       0.92      0.78      0.84        86\n",
      "          i       0.75      0.85      0.79       182\n",
      "          j       0.00      0.00      0.00         4\n",
      "          k       0.72      0.79      0.75        33\n",
      "          l       0.32      0.54      0.41       105\n",
      "          m       0.83      0.84      0.83        51\n",
      "          n       0.90      0.92      0.91       162\n",
      "          o       0.74      0.76      0.75       194\n",
      "          p       0.72      0.70      0.71        56\n",
      "          q       0.00      0.00      0.00         3\n",
      "          r       0.80      0.85      0.82       177\n",
      "          s       0.79      0.88      0.83       154\n",
      "          t       0.87      0.91      0.89       173\n",
      "          u       0.65      0.81      0.72        67\n",
      "          v       0.88      0.62      0.73        24\n",
      "          w       0.50      0.68      0.58        19\n",
      "          x       0.64      0.75      0.69        12\n",
      "          y       0.75      0.77      0.76        57\n",
      "          z       0.00      0.00      0.00         2\n",
      "          £       0.00      0.00      0.00         3\n",
      "\n",
      "avg / total       0.81      0.80      0.80      5430\n",
      "\n"
     ]
    }
   ],
   "source": [
    "print classification_report(data_test_y, pred)"
   ]
  },
  {
   "cell_type": "code",
   "execution_count": 28,
   "metadata": {
    "collapsed": false
   },
   "outputs": [],
   "source": [
    "net.save_params_to(os.path.join(model_root, 'recog_for_icdar.pkl'))"
   ]
  },
  {
   "cell_type": "code",
   "execution_count": null,
   "metadata": {
    "collapsed": true
   },
   "outputs": [],
   "source": []
  },
  {
   "cell_type": "code",
   "execution_count": null,
   "metadata": {
    "collapsed": true
   },
   "outputs": [],
   "source": []
  }
 ],
 "metadata": {
  "kernelspec": {
   "display_name": "Python 2",
   "language": "python",
   "name": "python2"
  },
  "language_info": {
   "codemirror_mode": {
    "name": "ipython",
    "version": 2
   },
   "file_extension": ".py",
   "mimetype": "text/x-python",
   "name": "python",
   "nbconvert_exporter": "python",
   "pygments_lexer": "ipython2",
   "version": "2.7.11"
  }
 },
 "nbformat": 4,
 "nbformat_minor": 0
}
