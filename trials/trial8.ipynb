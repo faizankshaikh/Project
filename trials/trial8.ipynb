{
 "cells": [
  {
   "cell_type": "code",
   "execution_count": 1,
   "metadata": {
    "collapsed": false
   },
   "outputs": [
    {
     "name": "stderr",
     "output_type": "stream",
     "text": [
      "Using gpu device 0: GeForce GT 740M (CNMeM is disabled)\n"
     ]
    }
   ],
   "source": [
    "# import modules \n",
    "% matplotlib inline\n",
    "\n",
    "import os\n",
    "import time\n",
    "import h5py\n",
    "import pylab\n",
    "import random\n",
    "import pandas as pd\n",
    "import numpy as np\n",
    "import cPickle as pkl\n",
    "from lasagne import layers, updates\n",
    "from scipy.misc import imread, imresize\n",
    "from lasagne.nonlinearities import softmax\n",
    "from nolearn.lasagne import NeuralNet, BatchIterator\n",
    "\n",
    "icdar_root = 'icdar03/train/case-sensitive-train.mat'\n",
    "project_root = 'workspace/.project/project'\n",
    "data_root = os.path.join(os.path.expanduser('~'), project_root, 'datasets')\n",
    "model_root = os.path.join(os.path.expanduser('~'), project_root, 'models')"
   ]
  },
  {
   "cell_type": "code",
   "execution_count": 2,
   "metadata": {
    "collapsed": false
   },
   "outputs": [],
   "source": [
    "f = h5py.File(os.path.join(data_root, icdar_root), \"r\")"
   ]
  },
  {
   "cell_type": "code",
   "execution_count": 3,
   "metadata": {
    "collapsed": false
   },
   "outputs": [
    {
     "data": {
      "text/plain": [
       "[u'#refs#', u'gt']"
      ]
     },
     "execution_count": 3,
     "metadata": {},
     "output_type": "execute_result"
    }
   ],
   "source": [
    "f.keys()"
   ]
  },
  {
   "cell_type": "code",
   "execution_count": 4,
   "metadata": {
    "collapsed": true
   },
   "outputs": [],
   "source": [
    "som1 = f['gt']['images']\n",
    "som2 = f['gt']['labels']"
   ]
  },
  {
   "cell_type": "code",
   "execution_count": null,
   "metadata": {
    "collapsed": false
   },
   "outputs": [],
   "source": [
    "start_time = time.time()\n",
    "som1_np = []\n",
    "for i in som1:\n",
    "    for j in f[i.item()]:\n",
    "        som1_np.append(np.array(f[j.item()]).T)\n",
    "        \n",
    "images = np.stack(som1_np)\n",
    "print time.time() - start_time"
   ]
  },
  {
   "cell_type": "code",
   "execution_count": 76,
   "metadata": {
    "collapsed": false
   },
   "outputs": [
    {
     "data": {
      "text/plain": [
       "(24, 24)"
      ]
     },
     "execution_count": 76,
     "metadata": {},
     "output_type": "execute_result"
    }
   ],
   "source": [
    "som1_np[1].shape"
   ]
  },
  {
   "cell_type": "code",
   "execution_count": 77,
   "metadata": {
    "collapsed": false
   },
   "outputs": [
    {
     "data": {
      "image/png": "[encoded data removed]",
      "text/plain": [
       "<matplotlib.figure.Figure at 0x7f3897cc46d0>"
      ]
     },
     "metadata": {},
     "output_type": "display_data"
    }
   ],
   "source": [
    "i = random.randrange(0, images.shape[0])\n",
    "pylab.imshow(images[i])\n",
    "pylab.gray()\n",
    "pylab.axis('off')\n",
    "pylab.show()"
   ]
  },
  {
   "cell_type": "code",
   "execution_count": 78,
   "metadata": {
    "collapsed": false
   },
   "outputs": [
    {
     "data": {
      "text/plain": [
       "107454"
      ]
     },
     "execution_count": 78,
     "metadata": {},
     "output_type": "execute_result"
    }
   ],
   "source": [
    "images.shape[0]"
   ]
  },
  {
   "cell_type": "code",
   "execution_count": 85,
   "metadata": {
    "collapsed": false
   },
   "outputs": [
    {
     "name": "stdout",
     "output_type": "stream",
     "text": [
      "0\n",
      "1\n",
      "2\n",
      "3\n",
      "4\n",
      "5\n",
      "6\n",
      "7\n",
      "8\n",
      "9\n",
      "A\n",
      "a\n",
      "B\n",
      "b\n",
      "C\n",
      "c\n",
      "D\n",
      "d\n",
      "E\n",
      "e\n",
      "F\n",
      "f\n",
      "G\n",
      "g\n",
      "H\n",
      "h\n",
      "I\n",
      "i\n",
      "J\n",
      "j\n",
      "K\n",
      "k\n",
      "L\n",
      "l\n",
      "M\n",
      "m\n",
      "N\n",
      "n\n",
      "O\n",
      "o\n",
      "P\n",
      "p\n",
      "Q\n",
      "q\n",
      "R\n",
      "r\n",
      "S\n",
      "s\n",
      "T\n",
      "t\n",
      "U\n",
      "u\n",
      "V\n",
      "v\n",
      "W\n",
      "w\n",
      "X\n",
      "x\n",
      "Y\n",
      "y\n",
      "Z\n",
      "z\n"
     ]
    }
   ],
   "source": [
    "start_time = time.time()\n",
    "som2_np = []\n",
    "for i in som2:\n",
    "    for j in f[i.item()]:\n",
    "        print chr(j);break\n",
    "        #som2_np.append(f[j.item()])\n",
    "        \n",
    "#labels = np.stack(som2_np)\n",
    "#print time.time() - start_time"
   ]
  },
  {
   "cell_type": "code",
   "execution_count": 5,
   "metadata": {
    "collapsed": false
   },
   "outputs": [
    {
     "name": "stdout",
     "output_type": "stream",
     "text": [
      "11.194175005\n"
     ]
    }
   ],
   "source": [
    "start_time = time.time()\n",
    "no_in_class = []\n",
    "for i in som1:\n",
    "    cnt = 0\n",
    "    for j in f[i.item()]:\n",
    "        cnt += 1\n",
    "    no_in_class.append(cnt)\n",
    "    \n",
    "print time.time() - start_time"
   ]
  },
  {
   "cell_type": "code",
   "execution_count": 6,
   "metadata": {
    "collapsed": false
   },
   "outputs": [
    {
     "data": {
      "text/plain": [
       "[817,\n",
       " 739,\n",
       " 686,\n",
       " 517,\n",
       " 552,\n",
       " 494,\n",
       " 484,\n",
       " 463,\n",
       " 488,\n",
       " 445,\n",
       " 4497,\n",
       " 3935,\n",
       " 1054,\n",
       " 725,\n",
       " 2130,\n",
       " 1549,\n",
       " 2058,\n",
       " 1769,\n",
       " 5969,\n",
       " 6059,\n",
       " 1109,\n",
       " 993,\n",
       " 1246,\n",
       " 1015,\n",
       " 2369,\n",
       " 2118,\n",
       " 3471,\n",
       " 3516,\n",
       " 302,\n",
       " 155,\n",
       " 608,\n",
       " 509,\n",
       " 2379,\n",
       " 2062,\n",
       " 1484,\n",
       " 1229,\n",
       " 3429,\n",
       " 3534,\n",
       " 3787,\n",
       " 3953,\n",
       " 1425,\n",
       " 1006,\n",
       " 152,\n",
       " 143,\n",
       " 3435,\n",
       " 3277,\n",
       " 3681,\n",
       " 3100,\n",
       " 4132,\n",
       " 3876,\n",
       " 1378,\n",
       " 1427,\n",
       " 637,\n",
       " 552,\n",
       " 1002,\n",
       " 844,\n",
       " 267,\n",
       " 219,\n",
       " 940,\n",
       " 995,\n",
       " 149,\n",
       " 119]"
      ]
     },
     "execution_count": 6,
     "metadata": {},
     "output_type": "execute_result"
    }
   ],
   "source": [
    "no_in_class"
   ]
  },
  {
   "cell_type": "code",
   "execution_count": null,
   "metadata": {
    "collapsed": true
   },
   "outputs": [],
   "source": []
  }
 ],
 "metadata": {
  "kernelspec": {
   "display_name": "Python 2",
   "language": "python",
   "name": "python2"
  },
  "language_info": {
   "codemirror_mode": {
    "name": "ipython",
    "version": 2
   },
   "file_extension": ".py",
   "mimetype": "text/x-python",
   "name": "python",
   "nbconvert_exporter": "python",
   "pygments_lexer": "ipython2",
   "version": "2.7.11"
  }
 },
 "nbformat": 4,
 "nbformat_minor": 0
}
